{
 "cells": [
  {
   "cell_type": "code",
   "execution_count": 8,
   "id": "48d3e4bf-5b21-4d16-b6ef-a002a120c083",
   "metadata": {
    "tags": []
   },
   "outputs": [
    {
     "name": "stderr",
     "output_type": "stream",
     "text": [
      "/gpfs/gibbs/project/karbasi/ih244/conda_envs/insu/lib/python3.9/site-packages/scipy/__init__.py:155: UserWarning: A NumPy version >=1.18.5 and <1.26.0 is required for this version of SciPy (detected version 1.26.4\n",
      "  warnings.warn(f\"A NumPy version >={np_minversion} and <{np_maxversion}\"\n"
     ]
    }
   ],
   "source": [
    "import time\n",
    "import numpy as np\n",
    "import torch\n",
    "\n",
    "import matplotlib.pyplot as plt\n",
    "import numpy as np\n",
    "from matplotlib import rc\n",
    "import seaborn as sns\n",
    "\n",
    "\n",
    "%matplotlib inline\n",
    "\n",
    "%reload_ext autoreload\n",
    "%autoreload 2"
   ]
  },
  {
   "cell_type": "code",
   "execution_count": 12,
   "id": "200f86d0-af38-4730-88a4-adad37297424",
   "metadata": {
    "tags": []
   },
   "outputs": [
    {
     "name": "stderr",
     "output_type": "stream",
     "text": [
      "/tmp/ipykernel_2241397/3743378124.py:5: FutureWarning: You are using `torch.load` with `weights_only=False` (the current default value), which uses the default pickle module implicitly. It is possible to construct malicious pickle data which will execute arbitrary code during unpickling (See https://github.com/pytorch/pytorch/blob/main/SECURITY.md#untrusted-models for more details). In a future release, the default value for `weights_only` will be flipped to `True`. This limits the functions that could be executed during unpickling. Arbitrary objects will no longer be allowed to be loaded via this mode unless they are explicitly allowlisted by the user via `torch.serialization.add_safe_globals`. We recommend you start setting `weights_only=True` for any use case where you don't have full control of the loaded file. Please open an issue on GitHub for any issues related to this experimental feature.\n",
      "  attn_scaled = torch.load(f\"metadata/layer{layer_id}_attn_{size}_cond.pth\", map_location=\"cpu\")\n"
     ]
    }
   ],
   "source": [
    "cond_type = \"cond\"\n",
    "step_id = 0\n",
    "layer_id = 4\n",
    "size = 256\n",
    "attn_scaled = torch.load(f\"metadata/layer{layer_id}_attn_{size}_cond.pth\", map_location=\"cpu\")"
   ]
  },
  {
   "cell_type": "code",
   "execution_count": null,
   "id": "5cf67298-cf33-4c3d-b85f-011010440e76",
   "metadata": {
    "tags": []
   },
   "outputs": [],
   "source": [
    "fig, ax = plt.subplots(6, 8, figsize=(21, 9))\n",
    "fig.suptitle(f\"sora_prompt1, layer: {layer_id}, {cond_type}, step: {step_id}/{50}\", fontsize=16)\n",
    "for i in range(6):\n",
    "    for j in range(8):\n",
    "        head_id = i*8 + j\n",
    "        ax[i][j].set_title(f\"head{head_id}\")\n",
    "        sns.heatmap(\n",
    "            attn_scaled[head_id],\n",
    "            annot=False, square=True, cmap=\"crest\", cbar=True,\n",
    "            ax=ax[i][j], cbar_kws={\"shrink\": 0.75},\n",
    "            xticklabels=False, yticklabels=False) # vmin=0.0, vmax=1.0,\n",
    "fig.tight_layout()"
   ]
  }
 ],
 "metadata": {
  "kernelspec": {
   "display_name": "Python 3 (ipykernel)",
   "language": "python",
   "name": "python3"
  },
  "language_info": {
   "codemirror_mode": {
    "name": "ipython",
    "version": 3
   },
   "file_extension": ".py",
   "mimetype": "text/x-python",
   "name": "python",
   "nbconvert_exporter": "python",
   "pygments_lexer": "ipython3",
   "version": "3.9.19"
  }
 },
 "nbformat": 4,
 "nbformat_minor": 5
}
